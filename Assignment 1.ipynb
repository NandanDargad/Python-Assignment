{
 "cells": [
  {
   "cell_type": "code",
   "execution_count": 1,
   "id": "369aeb65",
   "metadata": {},
   "outputs": [],
   "source": [
    "# 1. In the below elements which of them are values or an expression?\n",
    "# eg:- Values can be integer or string and expressions will be mathematical operators"
   ]
  },
  {
   "cell_type": "code",
   "execution_count": 3,
   "id": "41827418",
   "metadata": {},
   "outputs": [],
   "source": [
    "# * = expression\n",
    "# 'hello' = String\n",
    "# -87.8 = Integer\n",
    "# - = expression\n",
    "# / = expression\n",
    "# + = expression\n",
    "# 6 = Integer"
   ]
  },
  {
   "cell_type": "code",
   "execution_count": 4,
   "id": "bb13e6b6",
   "metadata": {},
   "outputs": [],
   "source": [
    "#2.What is the difference between string and variable?\n",
    "# A VARIABLE can store everything from strings to numbers however a STRING is the values inside the quotes assigned to a string."
   ]
  },
  {
   "cell_type": "code",
   "execution_count": 10,
   "id": "2a36a376",
   "metadata": {},
   "outputs": [
    {
     "name": "stdout",
     "output_type": "stream",
     "text": [
      "type of a:  <class 'int'>\n",
      "type of b:  <class 'float'>\n",
      "type of c:  <class 'complex'>\n"
     ]
    }
   ],
   "source": [
    "#3. Describe three different data types?\n",
    "# Three different data types in Python are.\n",
    "\n",
    "#1. Numeric - Numberic value can be integer, floating number or even complex numbers.\n",
    "# These values are defined as int,float and complex\n",
    "a=5\n",
    "print(\"type of a: \", type (a))\n",
    "\n",
    "b=5.0\n",
    "print(\"type of b: \", type (b))\n",
    "\n",
    "c= 5+4j\n",
    "print(\"type of c: \", type (c)) "
   ]
  },
  {
   "cell_type": "code",
   "execution_count": 14,
   "id": "3e7c41b9",
   "metadata": {},
   "outputs": [
    {
     "name": "stdout",
     "output_type": "stream",
     "text": [
      "<class 'bool'>\n",
      "<class 'bool'>\n"
     ]
    }
   ],
   "source": [
    "#2. Boolean - Data type with one of the two built-in values, True or False. Boolean objects that are equal to True are truthy (True), and those equal to False are falsy (False)\n",
    "True \n",
    "print (type (True))\n",
    "print (type(False))"
   ]
  },
  {
   "cell_type": "code",
   "execution_count": 16,
   "id": "0733337e",
   "metadata": {},
   "outputs": [
    {
     "name": "stdout",
     "output_type": "stream",
     "text": [
      "initial blank set: \n",
      "set()\n"
     ]
    }
   ],
   "source": [
    "#3. Set - This is an unordered collection of data type that is iterable, mutable and has no duplicate elements.\n",
    "set1 = set()\n",
    "print (\"initial blank set: \")\n",
    "print (set1)"
   ]
  },
  {
   "cell_type": "code",
   "execution_count": 17,
   "id": "4dfcf3b3",
   "metadata": {},
   "outputs": [],
   "source": [
    "#4. What is an expression made up of? What do all expressions do?\n",
    "# An expression is a combination of values, variables, operators and calls to functions. In python expression can be printed by interpreter evaluating the expression and displaying the result. "
   ]
  },
  {
   "cell_type": "code",
   "execution_count": 19,
   "id": "c6ed6da3",
   "metadata": {},
   "outputs": [],
   "source": [
    "#5.This assignment statements, like spam=10. What is the difference between an expression and a statement?\n",
    "#Expression always produces or retunrs a result value however statement may or may not produces or displays a result value and it only does whatever the statment says."
   ]
  },
  {
   "cell_type": "code",
   "execution_count": 21,
   "id": "472253f8",
   "metadata": {},
   "outputs": [
    {
     "data": {
      "text/plain": [
       "23"
      ]
     },
     "execution_count": 21,
     "metadata": {},
     "output_type": "execute_result"
    }
   ],
   "source": [
    "#6. After running the following code, what does the variable bacon contain?\n",
    "bacon = 22\n",
    "bacon + 1"
   ]
  },
  {
   "cell_type": "code",
   "execution_count": 22,
   "id": "5746d7cf",
   "metadata": {},
   "outputs": [
    {
     "data": {
      "text/plain": [
       "'spamspamspam'"
      ]
     },
     "execution_count": 22,
     "metadata": {},
     "output_type": "execute_result"
    }
   ],
   "source": [
    "#7. What should the values of the following two terms be?\n",
    "\"spam\" + \"spamspam\"\n",
    "\"spam\"*3"
   ]
  },
  {
   "cell_type": "code",
   "execution_count": 23,
   "id": "c28fab69",
   "metadata": {},
   "outputs": [],
   "source": [
    "#8. Why is eggs a valid variable name while 100 is invalid?\n",
    "# we cant give variable an integer name"
   ]
  },
  {
   "cell_type": "code",
   "execution_count": 24,
   "id": "f48ad86f",
   "metadata": {},
   "outputs": [],
   "source": [
    "#9. What three functions can be used to get the integer, floating-point number or string version of a value?\n",
    "# str(), int(), float()"
   ]
  },
  {
   "cell_type": "code",
   "execution_count": 25,
   "id": "0b6958d7",
   "metadata": {},
   "outputs": [
    {
     "ename": "TypeError",
     "evalue": "can only concatenate str (not \"int\") to str",
     "output_type": "error",
     "traceback": [
      "\u001b[1;31m---------------------------------------------------------------------------\u001b[0m",
      "\u001b[1;31mTypeError\u001b[0m                                 Traceback (most recent call last)",
      "\u001b[1;32m~\\AppData\\Local\\Temp/ipykernel_9388/3442900126.py\u001b[0m in \u001b[0;36m<module>\u001b[1;34m\u001b[0m\n\u001b[0;32m      1\u001b[0m \u001b[1;31m#10. Why does this expression cause an error? How can you fix it?\u001b[0m\u001b[1;33m\u001b[0m\u001b[1;33m\u001b[0m\u001b[0m\n\u001b[1;32m----> 2\u001b[1;33m \u001b[1;34m\"I have eaten\"\u001b[0m \u001b[1;33m+\u001b[0m \u001b[1;36m99\u001b[0m \u001b[1;33m+\u001b[0m \u001b[1;34m\"burritos.\"\u001b[0m\u001b[1;33m\u001b[0m\u001b[1;33m\u001b[0m\u001b[0m\n\u001b[0m",
      "\u001b[1;31mTypeError\u001b[0m: can only concatenate str (not \"int\") to str"
     ]
    }
   ],
   "source": [
    "#10. Why does this expression cause an error? How can you fix it?\n",
    "\"I have eaten\" + 99 + \"burritos.\""
   ]
  },
  {
   "cell_type": "code",
   "execution_count": 26,
   "id": "15426394",
   "metadata": {},
   "outputs": [],
   "source": [
    "#sol - 99 is an integer and this cannot be concatenated with string, if we need to do a concatination then we need to do typecasting."
   ]
  },
  {
   "cell_type": "code",
   "execution_count": null,
   "id": "a8464597",
   "metadata": {},
   "outputs": [],
   "source": []
  }
 ],
 "metadata": {
  "kernelspec": {
   "display_name": "Python 3 (ipykernel)",
   "language": "python",
   "name": "python3"
  },
  "language_info": {
   "codemirror_mode": {
    "name": "ipython",
    "version": 3
   },
   "file_extension": ".py",
   "mimetype": "text/x-python",
   "name": "python",
   "nbconvert_exporter": "python",
   "pygments_lexer": "ipython3",
   "version": "3.9.7"
  }
 },
 "nbformat": 4,
 "nbformat_minor": 5
}
