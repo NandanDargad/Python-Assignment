{
 "cells": [
  {
   "cell_type": "code",
   "execution_count": 2,
   "id": "0c01a9db",
   "metadata": {},
   "outputs": [
    {
     "name": "stdout",
     "output_type": "stream",
     "text": [
      "False\n",
      "True\n"
     ]
    }
   ],
   "source": [
    "#1. What are the two values of the Boolean data types? How do you write them?\n",
    "#--> The two values of Boolean data types are \"True\" and \"False\".\n",
    "print (1>2)\n",
    "print (2>1)"
   ]
  },
  {
   "cell_type": "code",
   "execution_count": 2,
   "id": "f1594a96",
   "metadata": {},
   "outputs": [],
   "source": [
    "#2. What are the three different types of Boolean operators?\n",
    "--> The three boolean operators in python are \"and\", \"or\", \"not\"."
   ]
  },
  {
   "cell_type": "code",
   "execution_count": 4,
   "id": "b929ba58",
   "metadata": {},
   "outputs": [],
   "source": [
    "#3. Make a list of each boolean operator's truth tables (i.e every possible combination of boolean values for the operator and what it evaluate).\n",
    "#--> my_name = \"Nandan Dargad\""
   ]
  },
  {
   "cell_type": "code",
   "execution_count": 7,
   "id": "93c3d20a",
   "metadata": {},
   "outputs": [],
   "source": [
    "my_name = \"Nandan Dargad\""
   ]
  },
  {
   "cell_type": "code",
   "execution_count": 10,
   "id": "fd9d6acc",
   "metadata": {},
   "outputs": [
    {
     "name": "stdout",
     "output_type": "stream",
     "text": [
      "Nandan dargad\n",
      "False\n",
      "False\n",
      "False\n",
      "False\n",
      "False\n",
      "False\n",
      "True\n",
      "True\n"
     ]
    }
   ],
   "source": [
    "print(my_name.capitalize()) #This capitilize the first letter of the first word\n",
    "print(my_name.isalnum()) #This check if all the char are numbers.\n",
    "print(my_name.isalpha()) #This check if all the char in the string are alphabetic.\n",
    "print(my_name.isdigit()) #This check if the str contains digit\n",
    "print(my_name.islower()) #This check if the str contains lower case\n",
    "print(my_name.isnumeric()) #This check if the str contains any numbers\n",
    "print(my_name.isupper()) # This check if the str is in upper case\n",
    "print(my_name.startswith(\"N\")) #This check if the str startswith \"N\"\n",
    "print(my_name.endswith(\"d\")) #This check if the str endswith \"d\""
   ]
  },
  {
   "cell_type": "code",
   "execution_count": 17,
   "id": "b9610c3b",
   "metadata": {},
   "outputs": [],
   "source": [
    "#4. What are the values of the following expression?\n",
    "# (5>4) and (3==5)                      \"False\"\n",
    "# not (5>4)                             \"False\"\n",
    "# (5>4) or (3==5)                       \"True\"\n",
    "# not ((5>4) or (3==5))                 \"False\"\n",
    "# (True and True) and (True == False)   \"False\"\n",
    "# (not False) or (not True)             \"True\""
   ]
  },
  {
   "cell_type": "code",
   "execution_count": 11,
   "id": "2787a9fc",
   "metadata": {},
   "outputs": [
    {
     "data": {
      "text/plain": [
       "False"
      ]
     },
     "execution_count": 11,
     "metadata": {},
     "output_type": "execute_result"
    }
   ],
   "source": [
    "(5>4) and (3==5)"
   ]
  },
  {
   "cell_type": "code",
   "execution_count": 12,
   "id": "c7ca4bfb",
   "metadata": {},
   "outputs": [
    {
     "data": {
      "text/plain": [
       "False"
      ]
     },
     "execution_count": 12,
     "metadata": {},
     "output_type": "execute_result"
    }
   ],
   "source": [
    "not (5>4)"
   ]
  },
  {
   "cell_type": "code",
   "execution_count": 13,
   "id": "458771f8",
   "metadata": {},
   "outputs": [
    {
     "data": {
      "text/plain": [
       "True"
      ]
     },
     "execution_count": 13,
     "metadata": {},
     "output_type": "execute_result"
    }
   ],
   "source": [
    "(5>4) or (3==5)"
   ]
  },
  {
   "cell_type": "code",
   "execution_count": 14,
   "id": "147dedc1",
   "metadata": {},
   "outputs": [
    {
     "data": {
      "text/plain": [
       "False"
      ]
     },
     "execution_count": 14,
     "metadata": {},
     "output_type": "execute_result"
    }
   ],
   "source": [
    "not ((5>4) or (3==5))"
   ]
  },
  {
   "cell_type": "code",
   "execution_count": 15,
   "id": "e037fa97",
   "metadata": {},
   "outputs": [
    {
     "data": {
      "text/plain": [
       "False"
      ]
     },
     "execution_count": 15,
     "metadata": {},
     "output_type": "execute_result"
    }
   ],
   "source": [
    "(True and True) and (True == False)"
   ]
  },
  {
   "cell_type": "code",
   "execution_count": 16,
   "id": "030066a5",
   "metadata": {},
   "outputs": [
    {
     "data": {
      "text/plain": [
       "True"
      ]
     },
     "execution_count": 16,
     "metadata": {},
     "output_type": "execute_result"
    }
   ],
   "source": [
    "(not False) or (not True)"
   ]
  },
  {
   "cell_type": "code",
   "execution_count": 5,
   "id": "1f4f2da3",
   "metadata": {},
   "outputs": [],
   "source": [
    "#5. What are the six comparison operators?\n",
    "--> Python has six comparison operators: less than ( < ), less than or equal to ( <= ), greater than ( > ), \n",
    "    greater than or equal to ( >= ), equal to ( == ), and not equal to ( != )."
   ]
  },
  {
   "cell_type": "code",
   "execution_count": 6,
   "id": "f8cb403a",
   "metadata": {},
   "outputs": [],
   "source": [
    "#6. How do you tell the difference between the equal to and assignment operators? Describe a condition and when you would use one.\n",
    "--> The “=” is an assignment operator is used to assign the value on the right to the variable on the left. \n",
    "--> The '==' operator checks whether the two given operands are equal or not."
   ]
  },
  {
   "cell_type": "code",
   "execution_count": 18,
   "id": "52437e7f",
   "metadata": {},
   "outputs": [
    {
     "name": "stdout",
     "output_type": "stream",
     "text": [
      "12\n"
     ]
    }
   ],
   "source": [
    "# \"=\" Assignment operator\n",
    "a = 5\n",
    "b = 7\n",
    "c= a+b\n",
    "print (c)"
   ]
  },
  {
   "cell_type": "code",
   "execution_count": 20,
   "id": "9496bf5d",
   "metadata": {},
   "outputs": [
    {
     "name": "stdout",
     "output_type": "stream",
     "text": [
      "Line 1 - a is not equal to b\n"
     ]
    }
   ],
   "source": [
    "#\"==\" Equal to operator\n",
    "a = 28\n",
    "b = 9\n",
    "c = 19\n",
    "\n",
    "if ( a == b ):\n",
    "    print (\"Line 1 - a is equal to b\")\n",
    "else:\n",
    "    print (\"Line 1 - a is not equal to b\")"
   ]
  },
  {
   "cell_type": "code",
   "execution_count": 21,
   "id": "6cc8db5d",
   "metadata": {},
   "outputs": [
    {
     "name": "stdout",
     "output_type": "stream",
     "text": [
      "ham\n",
      "spam\n",
      "spam\n"
     ]
    }
   ],
   "source": [
    "#7. Identify the three blocks in this code:\n",
    "spam = 0\n",
    "if spam ==10:\n",
    "    print ('eggs')\n",
    "if spam > 5:\n",
    "    print ('bacon')\n",
    "else:\n",
    "    print('ham')\n",
    "    print('spam')\n",
    "    print('spam')"
   ]
  },
  {
   "cell_type": "code",
   "execution_count": 9,
   "id": "9f9fe8da",
   "metadata": {},
   "outputs": [],
   "source": [
    "#8. Write code that prints Hello if 1 is stored in spam, prints Howdy if 2 is stored in spam, and prints Greetings! if anything else is stored in spam.\n",
    "print (\"input value of spam\")\n",
    "spam = int(input())\n",
    "\n",
    "if spam == 1:\n",
    "    print (\"Hello\")\n",
    "elif spam == 2:\n",
    "    print (\"Howdy\")\n",
    "else :\n",
    "    print (\"Greetings!\") "
   ]
  },
  {
   "cell_type": "code",
   "execution_count": 10,
   "id": "85f0b930",
   "metadata": {},
   "outputs": [],
   "source": [
    "#9. if your programme is stuck in an endless loop, what keys you'll press?\n",
    "--> I will press CTRL+C to stop the infinite loop."
   ]
  },
  {
   "cell_type": "code",
   "execution_count": 11,
   "id": "639ef19c",
   "metadata": {},
   "outputs": [],
   "source": [
    "#10. How can you tell the difference between break and continue?\n",
    "--> Break statement is usually used with the switch statement and it can also use it within the while loop, do-while loop or the for-loop.\n",
    "--> Continue statement is not usually used with the switch statement but it can be used within the while loop, do-while loop or the for-loop."
   ]
  },
  {
   "cell_type": "code",
   "execution_count": 12,
   "id": "e55f2773",
   "metadata": {},
   "outputs": [],
   "source": [
    "#11. In a for loop, what is the difference between range (10), range (0,10), and range (0,10,1)?"
   ]
  },
  {
   "cell_type": "code",
   "execution_count": 22,
   "id": "e030f731",
   "metadata": {},
   "outputs": [
    {
     "data": {
      "text/plain": [
       "range(0, 10)"
      ]
     },
     "execution_count": 22,
     "metadata": {},
     "output_type": "execute_result"
    }
   ],
   "source": [
    "range(10)\n",
    "# START - integer starting from which the sequence of integers is to be returned"
   ]
  },
  {
   "cell_type": "code",
   "execution_count": 23,
   "id": "7c828519",
   "metadata": {},
   "outputs": [
    {
     "data": {
      "text/plain": [
       "range(0, 10)"
      ]
     },
     "execution_count": 23,
     "metadata": {},
     "output_type": "execute_result"
    }
   ],
   "source": [
    "range(0,10)\n",
    "#STOP - integer before which the sequence of integers is to be returned."
   ]
  },
  {
   "cell_type": "code",
   "execution_count": 27,
   "id": "7d476312",
   "metadata": {},
   "outputs": [
    {
     "data": {
      "text/plain": [
       "range(0, 10)"
      ]
     },
     "execution_count": 27,
     "metadata": {},
     "output_type": "execute_result"
    }
   ],
   "source": [
    "range(0,10,1)\n",
    "# STEP - integer value which determines the increment between each integer in the sequence"
   ]
  },
  {
   "cell_type": "code",
   "execution_count": 13,
   "id": "01fdc552",
   "metadata": {},
   "outputs": [],
   "source": [
    "#12. Write a short program that prints the numbers 1 to 10 using a for loop. Then write an equivalent program that prints the numbers 1 to 10 using a while loop."
   ]
  },
  {
   "cell_type": "code",
   "execution_count": 28,
   "id": "6b5ce236",
   "metadata": {},
   "outputs": [
    {
     "name": "stdout",
     "output_type": "stream",
     "text": [
      "0\n",
      "1\n",
      "2\n",
      "3\n",
      "4\n",
      "5\n",
      "6\n",
      "7\n",
      "8\n",
      "9\n"
     ]
    }
   ],
   "source": [
    "for i in range (0,10):\n",
    "    print(i)"
   ]
  },
  {
   "cell_type": "code",
   "execution_count": 32,
   "id": "f07d798b",
   "metadata": {},
   "outputs": [
    {
     "name": "stdout",
     "output_type": "stream",
     "text": [
      "1\n",
      "2\n",
      "3\n",
      "4\n",
      "5\n",
      "6\n",
      "7\n",
      "8\n",
      "9\n",
      "10\n"
     ]
    }
   ],
   "source": [
    "i = 1\n",
    "while (i<=10):\n",
    "    print (i)\n",
    "    i += 1"
   ]
  },
  {
   "cell_type": "code",
   "execution_count": 34,
   "id": "2e0c96b0",
   "metadata": {},
   "outputs": [],
   "source": [
    "#13. If you had a function named bacon {} inside a module named spam, how would you call it after important spam?\n",
    "--> unable to answer."
   ]
  }
 ],
 "metadata": {
  "kernelspec": {
   "display_name": "Python 3 (ipykernel)",
   "language": "python",
   "name": "python3"
  },
  "language_info": {
   "codemirror_mode": {
    "name": "ipython",
    "version": 3
   },
   "file_extension": ".py",
   "mimetype": "text/x-python",
   "name": "python",
   "nbconvert_exporter": "python",
   "pygments_lexer": "ipython3",
   "version": "3.9.7"
  }
 },
 "nbformat": 4,
 "nbformat_minor": 5
}
